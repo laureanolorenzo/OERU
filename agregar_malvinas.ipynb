{
 "cells": [
  {
   "cell_type": "code",
   "execution_count": 1,
   "metadata": {},
   "outputs": [],
   "source": [
    "import pandas as pd\n",
    "import numpy as np\n",
    "import matplotlib.pyplot as plt\n",
    "import geopandas as gpd\n",
    "import json"
   ]
  },
  {
   "cell_type": "code",
   "execution_count": 2,
   "metadata": {},
   "outputs": [],
   "source": [
    "deps = gpd.read_file('departamento.json')"
   ]
  },
  {
   "cell_type": "code",
   "execution_count": 31,
   "metadata": {},
   "outputs": [],
   "source": [
    "tdf = deps.loc[deps['nam'].isin(['Tolhuin','Ushuaia','Río Grande','Islas del Atlántico Sur'])]\n",
    "from shapely.ops import unary_union\n",
    "multi_polygon = unary_union(tdf['geometry'])"
   ]
  },
  {
   "cell_type": "code",
   "execution_count": 33,
   "metadata": {},
   "outputs": [
    {
     "data": {
      "text/plain": [
       "shapely.geometry.multipolygon.MultiPolygon"
      ]
     },
     "execution_count": 33,
     "metadata": {},
     "output_type": "execute_result"
    }
   ],
   "source": [
    "# disuelto = tdf.dissolve()\n",
    "type(multi_polygon)"
   ]
  },
  {
   "cell_type": "code",
   "execution_count": 11,
   "metadata": {},
   "outputs": [],
   "source": [
    "file_path = 'ProvinciasArgentina.geojson'\n",
    "provincias = gpd.read_file(file_path)\n"
   ]
  },
  {
   "cell_type": "code",
   "execution_count": null,
   "metadata": {},
   "outputs": [],
   "source": [
    "provincias_copy = provincias.copy()"
   ]
  },
  {
   "cell_type": "code",
   "execution_count": null,
   "metadata": {},
   "outputs": [],
   "source": [
    "disuelto= disuelto.explode()"
   ]
  },
  {
   "cell_type": "code",
   "execution_count": 28,
   "metadata": {},
   "outputs": [
    {
     "data": {
      "text/html": [
       "<div>\n",
       "<style scoped>\n",
       "    .dataframe tbody tr th:only-of-type {\n",
       "        vertical-align: middle;\n",
       "    }\n",
       "\n",
       "    .dataframe tbody tr th {\n",
       "        vertical-align: top;\n",
       "    }\n",
       "\n",
       "    .dataframe thead th {\n",
       "        text-align: right;\n",
       "    }\n",
       "</style>\n",
       "<table border=\"1\" class=\"dataframe\">\n",
       "  <thead>\n",
       "    <tr style=\"text-align: right;\">\n",
       "      <th></th>\n",
       "      <th></th>\n",
       "      <th>gid</th>\n",
       "      <th>objeto</th>\n",
       "      <th>fna</th>\n",
       "      <th>gna</th>\n",
       "      <th>nam</th>\n",
       "      <th>in1</th>\n",
       "      <th>fdc</th>\n",
       "      <th>sag</th>\n",
       "      <th>geometry</th>\n",
       "    </tr>\n",
       "  </thead>\n",
       "  <tbody>\n",
       "    <tr>\n",
       "      <th rowspan=\"11\" valign=\"top\">0</th>\n",
       "      <th>0</th>\n",
       "      <td>1038</td>\n",
       "      <td>Departamento</td>\n",
       "      <td>Departamento Ushuaia</td>\n",
       "      <td>Departamento</td>\n",
       "      <td>Ushuaia</td>\n",
       "      <td>94015</td>\n",
       "      <td>Gerencia de Catastro Pcial.</td>\n",
       "      <td>IGN</td>\n",
       "      <td>POLYGON ((-27.13274 -59.44355, -27.13253 -59.4...</td>\n",
       "    </tr>\n",
       "    <tr>\n",
       "      <th>1</th>\n",
       "      <td>1038</td>\n",
       "      <td>Departamento</td>\n",
       "      <td>Departamento Ushuaia</td>\n",
       "      <td>Departamento</td>\n",
       "      <td>Ushuaia</td>\n",
       "      <td>94015</td>\n",
       "      <td>Gerencia de Catastro Pcial.</td>\n",
       "      <td>IGN</td>\n",
       "      <td>POLYGON ((-27.29803 -59.45689, -27.29801 -59.4...</td>\n",
       "    </tr>\n",
       "    <tr>\n",
       "      <th>2</th>\n",
       "      <td>1038</td>\n",
       "      <td>Departamento</td>\n",
       "      <td>Departamento Ushuaia</td>\n",
       "      <td>Departamento</td>\n",
       "      <td>Ushuaia</td>\n",
       "      <td>94015</td>\n",
       "      <td>Gerencia de Catastro Pcial.</td>\n",
       "      <td>IGN</td>\n",
       "      <td>POLYGON ((-27.06790 -59.40895, -27.06787 -59.4...</td>\n",
       "    </tr>\n",
       "    <tr>\n",
       "      <th>3</th>\n",
       "      <td>1038</td>\n",
       "      <td>Departamento</td>\n",
       "      <td>Departamento Ushuaia</td>\n",
       "      <td>Departamento</td>\n",
       "      <td>Ushuaia</td>\n",
       "      <td>94015</td>\n",
       "      <td>Gerencia de Catastro Pcial.</td>\n",
       "      <td>IGN</td>\n",
       "      <td>POLYGON ((-26.43087 -59.00921, -26.43083 -59.0...</td>\n",
       "    </tr>\n",
       "    <tr>\n",
       "      <th>4</th>\n",
       "      <td>1038</td>\n",
       "      <td>Departamento</td>\n",
       "      <td>Departamento Ushuaia</td>\n",
       "      <td>Departamento</td>\n",
       "      <td>Ushuaia</td>\n",
       "      <td>94015</td>\n",
       "      <td>Gerencia de Catastro Pcial.</td>\n",
       "      <td>IGN</td>\n",
       "      <td>POLYGON ((-26.25239 -58.49406, -26.25234 -58.4...</td>\n",
       "    </tr>\n",
       "    <tr>\n",
       "      <th>...</th>\n",
       "      <td>...</td>\n",
       "      <td>...</td>\n",
       "      <td>...</td>\n",
       "      <td>...</td>\n",
       "      <td>...</td>\n",
       "      <td>...</td>\n",
       "      <td>...</td>\n",
       "      <td>...</td>\n",
       "      <td>...</td>\n",
       "    </tr>\n",
       "    <tr>\n",
       "      <th>683</th>\n",
       "      <td>1038</td>\n",
       "      <td>Departamento</td>\n",
       "      <td>Departamento Ushuaia</td>\n",
       "      <td>Departamento</td>\n",
       "      <td>Ushuaia</td>\n",
       "      <td>94015</td>\n",
       "      <td>Gerencia de Catastro Pcial.</td>\n",
       "      <td>IGN</td>\n",
       "      <td>POLYGON ((-59.54828 -51.75964, -59.54737 -51.7...</td>\n",
       "    </tr>\n",
       "    <tr>\n",
       "      <th>684</th>\n",
       "      <td>1038</td>\n",
       "      <td>Departamento</td>\n",
       "      <td>Departamento Ushuaia</td>\n",
       "      <td>Departamento</td>\n",
       "      <td>Ushuaia</td>\n",
       "      <td>94015</td>\n",
       "      <td>Gerencia de Catastro Pcial.</td>\n",
       "      <td>IGN</td>\n",
       "      <td>POLYGON ((-59.62737 -51.77000, -59.62724 -51.7...</td>\n",
       "    </tr>\n",
       "    <tr>\n",
       "      <th>685</th>\n",
       "      <td>1038</td>\n",
       "      <td>Departamento</td>\n",
       "      <td>Departamento Ushuaia</td>\n",
       "      <td>Departamento</td>\n",
       "      <td>Ushuaia</td>\n",
       "      <td>94015</td>\n",
       "      <td>Gerencia de Catastro Pcial.</td>\n",
       "      <td>IGN</td>\n",
       "      <td>POLYGON ((-61.21247 -51.68982, -61.21201 -51.6...</td>\n",
       "    </tr>\n",
       "    <tr>\n",
       "      <th>686</th>\n",
       "      <td>1038</td>\n",
       "      <td>Departamento</td>\n",
       "      <td>Departamento Ushuaia</td>\n",
       "      <td>Departamento</td>\n",
       "      <td>Ushuaia</td>\n",
       "      <td>94015</td>\n",
       "      <td>Gerencia de Catastro Pcial.</td>\n",
       "      <td>IGN</td>\n",
       "      <td>POLYGON ((-58.46535 -51.30909, -58.46548 -51.3...</td>\n",
       "    </tr>\n",
       "    <tr>\n",
       "      <th>687</th>\n",
       "      <td>1038</td>\n",
       "      <td>Departamento</td>\n",
       "      <td>Departamento Ushuaia</td>\n",
       "      <td>Departamento</td>\n",
       "      <td>Ushuaia</td>\n",
       "      <td>94015</td>\n",
       "      <td>Gerencia de Catastro Pcial.</td>\n",
       "      <td>IGN</td>\n",
       "      <td>POLYGON ((-59.19361 -51.39949, -59.19268 -51.3...</td>\n",
       "    </tr>\n",
       "  </tbody>\n",
       "</table>\n",
       "<p>688 rows × 9 columns</p>\n",
       "</div>"
      ],
      "text/plain": [
       "        gid        objeto                   fna           gna      nam    in1  \\\n",
       "0 0    1038  Departamento  Departamento Ushuaia  Departamento  Ushuaia  94015   \n",
       "  1    1038  Departamento  Departamento Ushuaia  Departamento  Ushuaia  94015   \n",
       "  2    1038  Departamento  Departamento Ushuaia  Departamento  Ushuaia  94015   \n",
       "  3    1038  Departamento  Departamento Ushuaia  Departamento  Ushuaia  94015   \n",
       "  4    1038  Departamento  Departamento Ushuaia  Departamento  Ushuaia  94015   \n",
       "...     ...           ...                   ...           ...      ...    ...   \n",
       "  683  1038  Departamento  Departamento Ushuaia  Departamento  Ushuaia  94015   \n",
       "  684  1038  Departamento  Departamento Ushuaia  Departamento  Ushuaia  94015   \n",
       "  685  1038  Departamento  Departamento Ushuaia  Departamento  Ushuaia  94015   \n",
       "  686  1038  Departamento  Departamento Ushuaia  Departamento  Ushuaia  94015   \n",
       "  687  1038  Departamento  Departamento Ushuaia  Departamento  Ushuaia  94015   \n",
       "\n",
       "                               fdc  sag  \\\n",
       "0 0    Gerencia de Catastro Pcial.  IGN   \n",
       "  1    Gerencia de Catastro Pcial.  IGN   \n",
       "  2    Gerencia de Catastro Pcial.  IGN   \n",
       "  3    Gerencia de Catastro Pcial.  IGN   \n",
       "  4    Gerencia de Catastro Pcial.  IGN   \n",
       "...                            ...  ...   \n",
       "  683  Gerencia de Catastro Pcial.  IGN   \n",
       "  684  Gerencia de Catastro Pcial.  IGN   \n",
       "  685  Gerencia de Catastro Pcial.  IGN   \n",
       "  686  Gerencia de Catastro Pcial.  IGN   \n",
       "  687  Gerencia de Catastro Pcial.  IGN   \n",
       "\n",
       "                                                geometry  \n",
       "0 0    POLYGON ((-27.13274 -59.44355, -27.13253 -59.4...  \n",
       "  1    POLYGON ((-27.29803 -59.45689, -27.29801 -59.4...  \n",
       "  2    POLYGON ((-27.06790 -59.40895, -27.06787 -59.4...  \n",
       "  3    POLYGON ((-26.43087 -59.00921, -26.43083 -59.0...  \n",
       "  4    POLYGON ((-26.25239 -58.49406, -26.25234 -58.4...  \n",
       "...                                                  ...  \n",
       "  683  POLYGON ((-59.54828 -51.75964, -59.54737 -51.7...  \n",
       "  684  POLYGON ((-59.62737 -51.77000, -59.62724 -51.7...  \n",
       "  685  POLYGON ((-61.21247 -51.68982, -61.21201 -51.6...  \n",
       "  686  POLYGON ((-58.46535 -51.30909, -58.46548 -51.3...  \n",
       "  687  POLYGON ((-59.19361 -51.39949, -59.19268 -51.3...  \n",
       "\n",
       "[688 rows x 9 columns]"
      ]
     },
     "execution_count": 28,
     "metadata": {},
     "output_type": "execute_result"
    }
   ],
   "source": [
    "disuelto"
   ]
  },
  {
   "cell_type": "code",
   "execution_count": 34,
   "metadata": {},
   "outputs": [],
   "source": [
    "provincias_copy.loc[provincias_copy['nombre'] == 'Tierra del Fuego', 'geometry'] = multi_polygon"
   ]
  },
  {
   "cell_type": "code",
   "execution_count": 20,
   "metadata": {},
   "outputs": [
    {
     "data": {
      "text/plain": [
       "0    MULTIPOLYGON (((-27.13274 -59.44355, -27.13253...\n",
       "Name: geometry, dtype: geometry"
      ]
     },
     "execution_count": 20,
     "metadata": {},
     "output_type": "execute_result"
    }
   ],
   "source": [
    "disuelto['geometry']"
   ]
  },
  {
   "cell_type": "code",
   "execution_count": 36,
   "metadata": {},
   "outputs": [
    {
     "data": {
      "text/plain": [
       "<Axes: >"
      ]
     },
     "execution_count": 36,
     "metadata": {},
     "output_type": "execute_result"
    },
    {
     "data": {
      "image/png": "[encoded data removed]",
      "text/plain": [
       "<Figure size 640x480 with 1 Axes>"
      ]
     },
     "metadata": {},
     "output_type": "display_data"
    }
   ],
   "source": [
    "provincias_copy.plot()"
   ]
  },
  {
   "cell_type": "code",
   "execution_count": 37,
   "metadata": {},
   "outputs": [],
   "source": [
    "provincias_copy.to_file('ProvinciasArgentinaMalvinas.geojson')"
   ]
  },
  {
   "cell_type": "code",
   "execution_count": null,
   "metadata": {},
   "outputs": [],
   "source": []
  }
 ],
 "metadata": {
  "kernelspec": {
   "display_name": "OERU",
   "language": "python",
   "name": "python3"
  },
  "language_info": {
   "codemirror_mode": {
    "name": "ipython",
    "version": 3
   },
   "file_extension": ".py",
   "mimetype": "text/x-python",
   "name": "python",
   "nbconvert_exporter": "python",
   "pygments_lexer": "ipython3",
   "version": "3.12.3"
  }
 },
 "nbformat": 4,
 "nbformat_minor": 2
}
